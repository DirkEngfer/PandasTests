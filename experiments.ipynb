{
 "cells": [
  {
   "cell_type": "code",
   "execution_count": null,
   "metadata": {},
   "outputs": [],
   "source": [
    "https://github.com/DirkEngfer/PandasTests\n",
    "Hourly NO2 measures in Bornhoeved (Schleswig-Holstein/Germany). programmer: Dirk Engfer, Germany\n",
    "Provided Input data file: NO2_2019_Bornhoeved.csv\n",
    "\n",
    "------------------------------\n",
    "Original source of Input Data:\n",
    "------------------------------\n",
    "Quelle: Umweltbundesamt, https://www.umweltbundesamt.de/daten/luft/luftdaten/stationen\n",
    "        (Abruf: 02.10.2020). Alle Uhrzeiten sind in der jeweils zum Messzeitpunkt\n",
    "        gültigen Zeit (MEZ bzw. MESZ) angegeben.\n"
   ]
  },
  {
   "cell_type": "code",
   "execution_count": 1,
   "metadata": {},
   "outputs": [],
   "source": [
    "import os, numpy as np\n",
    "import pandas as pd\n",
    "homedir = os.getenv('HOME')\n",
    "\n",
    "datapath = os.path.join(homedir, 'Dokumente','python-apps','tensorflow', 'eu_air_pollution_data')\n",
    "datafile = 'NO2_2019_Bornhoeved.csv'\n",
    "\n",
    "indatapath = os.path.join(datapath,datafile)"
   ]
  },
  {
   "cell_type": "code",
   "execution_count": null,
   "metadata": {},
   "outputs": [],
   "source": [
    "- Translate the SAS SET statement and friends into Pandas\n",
    "- calculate the arithmetic mean of the 3 highest measures per station/day\n",
    "- devide data into Kiel and Bornhöved (urban vs country)"
   ]
  },
  {
   "cell_type": "code",
   "execution_count": 2,
   "metadata": {},
   "outputs": [],
   "source": [
    "df = pd.read_csv(indatapath, header=0, sep=',',usecols=[2,7,8,9])\n",
    "df = df.loc[(df.Stationsname.isin(['Bornhöved', 'Kiel-Bahnhofstr. Verk.']))]\n",
    "df = df.loc[(df.Messwert.str.contains(pat='-')) == False]\n",
    "df['Messwert']  = df['Messwert'].astype(np.int)\n",
    "from datetime import datetime\n",
    "f = lambda x:datetime.strptime(x[-10:], \"%d.%m.%Y\")\n",
    "df['mydate'] = df['Datum'].map(f)\n",
    "\n",
    "df.sort_values(by=['Stationsname', 'mydate', 'Messwert'], ascending=[True,True, False], inplace=True, axis=0)\n",
    "dailymean = df.groupby(['Stationsname', 'mydate'], sort=False, as_index=False).nth([0,1,2]).groupby(['Stationsname', 'mydate'], sort=False, as_index=False).mean()\n",
    "dailymean['day_count'] = dailymean.groupby('Stationsname', sort=False, as_index=False).cumcount().add(1)\n",
    "dailymean['Jahresgrenzwert'] = 40\n",
    "Ki = dailymean.loc[(dailymean.Stationsname.isin(['Kiel-Bahnhofstr. Verk.']))]\n",
    "Bo = dailymean.loc[(dailymean.Stationsname.isin(['Bornhöved']))]\n",
    "Bo2 = Bo.copy()\n",
    "Bo2['Bornh'] = 'yes'"
   ]
  },
  {
   "cell_type": "code",
   "execution_count": null,
   "metadata": {},
   "outputs": [],
   "source": [
    "Set together 2 dataframes,\n",
    "  (1) perform Append\n",
    "  (2) perform Concatenation\n",
    "  (3) Compare methods 1 and 2 for differences in the resulting dataframe\n",
    "      i.e. Merge both results ON all columns and look at Merge-indicator variable = 'both'"
   ]
  },
  {
   "cell_type": "code",
   "execution_count": 3,
   "metadata": {},
   "outputs": [
    {
     "name": "stdout",
     "output_type": "stream",
     "text": [
      "Empty DataFrame\n",
      "Columns: [Stationsname, mydate, Messwert, day_count, Jahresgrenzwert, Bornh, _merge]\n",
      "Index: []\n"
     ]
    }
   ],
   "source": [
    "_appended = Ki.append(Bo2, ignore_index=True, verify_integrity=False, sort=False)\n",
    "_concatenated = pd.concat([Ki, Bo2], join='outer', axis=0)\n",
    "compared = _appended.merge(_concatenated, on=['Stationsname', 'mydate', 'Messwert', 'day_count', 'Jahresgrenzwert', 'Bornh'], how='inner', indicator=True)\n",
    "print(compared.loc[compared._merge != 'both', :])\n",
    "\n",
    "# Some more tests on Merge facets:\n",
    "d1 = pd.DataFrame({'x':['x1', 'x2', 'x2', 'x3'], 'y':['y1', 'y2a','y2b', 'y3'], 'z': ['z1', 'z2a','z2b', 'z3']})\n",
    "#d1\n",
    "d2 = pd.DataFrame({'x':['x2', 'x3', 'x40', 'x50'], 'y':['y10', 'y20','y20', 'y30'], 'z': ['z10', 'z20','z20', 'z30']})\n",
    "d3 = d1.merge(d2, on='x', how='outer')\n",
    "d4 = d1.merge(d2, on='x', how='inner')\n",
    "d5 = _concatenated.copy()"
   ]
  },
  {
   "cell_type": "code",
   "execution_count": 35,
   "metadata": {},
   "outputs": [
    {
     "name": "stdout",
     "output_type": "stream",
     "text": [
      "Check out speed when performing a list comp:\n",
      "10.3 ms ± 36.6 µs per loop (mean ± std. dev. of 7 runs, 100 loops each)\n"
     ]
    }
   ],
   "source": [
    "def mysum( x,y):\n",
    "    return x + y\n",
    "\n",
    "\n",
    "dfw = pd.DataFrame({'A': [1, 2,3], 'B': [10, 20,30]})\n",
    "# arg self: frame passed in, y and z: from args=, m: keyword arg:\n",
    "#dfw2 = dfw.apply(mysum, args=(1, 2), m=10)\n",
    "#print(dfw2)\n",
    "#print(dfw.apply(lambda x: x+100))\n",
    "# Check out list-comprehension based approach of modifying dataframe:\n",
    "dfw['row_sum'] = [mysum(x,y) for x, y in zip(dfw.A, dfw.B)]\n",
    "#print(dfw)\n",
    "\n",
    "df.sort_values(by=['Stationsname', 'mydate', 'Uhrzeit'], ascending=[True,True, True], inplace=True, axis=0)\n",
    "\n",
    "# Modify dataframe using list comps:\n",
    "# ----------------------------------\n",
    "import timeit\n",
    "dfx = df.copy()\n",
    "dfx.Uhrzeit.replace(regex=[\"'\"], value='', inplace=True)\n",
    "dfx.Uhrzeit.replace(regex=[\"24:00\"], value='00:00', inplace=True)\n",
    "dfx.Stationsname.replace(regex=[\"Kiel-Bahnhofstr. Verk.\"], value='Kiel', inplace=True)\n",
    "\n",
    "# Emulate SAS if-else if-else construct on multiple columns:\n",
    "def set_timefor(row):\n",
    "    if row[0] == \"16:00\" and row[1] != '31.12.2019' and row[2] != 'Kiel':\n",
    "        return \"coffee\"\n",
    "    if row[0] == \"16:00\" and row[2] == 'Kiel':\n",
    "        return \"tea\"\n",
    "    elif row[1] == '31.12.2019':\n",
    "        return \"New year's eve\"\n",
    "    elif row[0] in [\"18:00\", \"19:00\"]:\n",
    "        return \"dinner\"\n",
    "    else:\n",
    "        return \"other\"\n",
    "print('Check out speed when performing a list comp:')\n",
    "%timeit dfx['time_for'] = [set_timefor(row) for row in zip(dfx.Uhrzeit, dfx.Datum, dfx.Stationsname)]\n",
    "#print(dfx)"
   ]
  },
  {
   "cell_type": "code",
   "execution_count": null,
   "metadata": {},
   "outputs": [],
   "source": [
    "Next, check out a few datetime operations.\n",
    "subset data using the apply method\n",
    "Emulate if-else if-else construct\n",
    "Emulate SAS RETAIN statement on groups\n",
    "Do speed test on method Apply to compare with list comp from above"
   ]
  },
  {
   "cell_type": "code",
   "execution_count": 34,
   "metadata": {},
   "outputs": [
    {
     "name": "stdout",
     "output_type": "stream",
     "text": [
      "Apply is ca. 50 times slower than list comp from above:\n",
      "536 ms ± 1.71 ms per loop (mean ± std. dev. of 7 runs, 1 loop each)\n",
      "  Stationsname       Datum Uhrzeit  Messwert     mydate      datumuhrzeit  \\\n",
      "0    Bornhöved  01.01.2019   16:00         2 2019-01-01  01.01.2019 16:00   \n",
      "1    Bornhöved  01.01.2019   17:00         2 2019-01-01  01.01.2019 17:00   \n",
      "2    Bornhöved  01.01.2019   18:00         2 2019-01-01  01.01.2019 18:00   \n",
      "3    Bornhöved  01.01.2019   19:00         2 2019-01-01  01.01.2019 19:00   \n",
      "4    Bornhöved  01.01.2019   20:00         2 2019-01-01  01.01.2019 20:00   \n",
      "\n",
      "                 mydt time_for speedtest_x speedtest_y  isfirst initial_event  \n",
      "0 2019-01-01 16:00:00   coffee      coffee      coffee      1.0        coffee  \n",
      "1 2019-01-01 17:00:00    other       other         NaN      NaN        coffee  \n",
      "2 2019-01-01 18:00:00   dinner      dinner         NaN      NaN        coffee  \n",
      "3 2019-01-01 19:00:00   dinner      dinner         NaN      NaN        coffee  \n",
      "4 2019-01-01 20:00:00    other       other         NaN      NaN        coffee  \n",
      "      Stationsname       Datum Uhrzeit  Messwert     mydate      datumuhrzeit  \\\n",
      "17428         Kiel  31.12.2019   19:00        74 2019-12-31  31.12.2019 19:00   \n",
      "17429         Kiel  31.12.2019   20:00        71 2019-12-31  31.12.2019 20:00   \n",
      "17430         Kiel  31.12.2019   21:00        65 2019-12-31  31.12.2019 21:00   \n",
      "17431         Kiel  31.12.2019   22:00        43 2019-12-31  31.12.2019 22:00   \n",
      "17432         Kiel  31.12.2019   23:00        41 2019-12-31  31.12.2019 23:00   \n",
      "\n",
      "                     mydt        time_for     speedtest_x speedtest_y  \\\n",
      "17428 2019-12-31 19:00:00  New year's eve  New year's eve         NaN   \n",
      "17429 2019-12-31 20:00:00  New year's eve  New year's eve         NaN   \n",
      "17430 2019-12-31 21:00:00  New year's eve  New year's eve         NaN   \n",
      "17431 2019-12-31 22:00:00  New year's eve  New year's eve         NaN   \n",
      "17432 2019-12-31 23:00:00  New year's eve  New year's eve         NaN   \n",
      "\n",
      "       isfirst initial_event  \n",
      "17428      NaN           tea  \n",
      "17429      NaN           tea  \n",
      "17430      NaN           tea  \n",
      "17431      NaN           tea  \n",
      "17432      NaN           tea  \n"
     ]
    }
   ],
   "source": [
    "df2 = df.copy()\n",
    "df2.Uhrzeit.replace(regex=[\"'\"], value='', inplace=True)\n",
    "df2.Uhrzeit.replace(regex=[\"24:00\"], value='00:00', inplace=True)\n",
    "df2.Stationsname.replace(regex=[\"Kiel-Bahnhofstr. Verk.\"], value='Kiel', inplace=True)\n",
    "df2['datumuhrzeit'] = df2['Datum'] + ' ' + df2['Uhrzeit']\n",
    "# Example for map method and datetime operations:\n",
    "f = lambda x:datetime.strptime(x[-10:], \"%d.%m.%Y\")\n",
    "df['mydate'] = df['Datum'].map(f)\n",
    "# datetime in pandas notation:\n",
    "df2['mydt']   = pd.to_datetime(df2['datumuhrzeit'], format='%d.%m.%Y %H:%M')\n",
    "# Subset data:\n",
    "subset_df2 = df2.loc[df2.apply(lambda x: x['Uhrzeit'] in ['16:00', '17:00'] \\\n",
    "                      and x.Messwert < 20, axis=1)]\n",
    "\n",
    "# Emulate SAS if-else if-else construct on multiple columns:\n",
    "def set_timefor(row):\n",
    "    if row[\"Uhrzeit\"] == \"16:00\" and row.Datum != '31.12.2019' and row['Stationsname'] != 'Kiel':\n",
    "        return \"coffee\"\n",
    "    if row[\"Uhrzeit\"] == \"16:00\" and row['Stationsname'] == 'Kiel':\n",
    "        return \"tea\"\n",
    "    elif row.Datum == '31.12.2019':\n",
    "        return \"New year's eve\"\n",
    "    elif row[\"Uhrzeit\"] in [\"18:00\", \"19:00\"]:\n",
    "        return \"dinner\"\n",
    "    else:\n",
    "        return \"other\"\n",
    "\n",
    "df2 = df2.assign(time_for=df2.apply(set_timefor, axis=1))\n",
    "# Doing a speed test on method \".apply\":\n",
    "print('Apply is ca. 50 times slower than list comp from above:')\n",
    "%timeit df2['speedtest'] = df2.apply(set_timefor, axis=1)\n",
    "\n",
    "# Emulate SAS RETAIN statement on groups:\n",
    "# Task: retain column time_for from the first measure per station (use of method apply), first build up groups\n",
    "st_gr = df2.groupby(df2['Stationsname'], as_index=False)\n",
    "first = st_gr.first()\n",
    "first['isfirst'] = 1\n",
    "first.drop(columns=['Messwert', 'mydate', \n",
    "       'datumuhrzeit', 'mydt', 'time_for'], inplace=True)\n",
    "df2 = df2.merge(first, how='left', on=['Stationsname', 'Datum', 'Uhrzeit'])\n",
    "\n",
    "retained_row = pd.Series([], dtype=np.str)\n",
    "def retainer(row):\n",
    "    global retained_row\n",
    "    return_value = np.NaN\n",
    "    if row.isfirst == 1:\n",
    "        return_value = row.time_for\n",
    "        retained_row = row.copy()\n",
    "        \n",
    "    else:\n",
    "        return_value = retained_row['time_for']\n",
    "    return return_value\n",
    "\n",
    "df2 = df2.assign(initial_event=df2.apply(retainer,  axis=1))\n",
    "#print(df2.info())\n",
    "\n",
    "print(df2.head())\n",
    "print(df2.tail())\n"
   ]
  },
  {
   "cell_type": "code",
   "execution_count": null,
   "metadata": {},
   "outputs": [],
   "source": []
  }
 ],
 "metadata": {
  "kernelspec": {
   "display_name": "Python 3",
   "language": "python",
   "name": "python3"
  },
  "language_info": {
   "codemirror_mode": {
    "name": "ipython",
    "version": 3
   },
   "file_extension": ".py",
   "mimetype": "text/x-python",
   "name": "python",
   "nbconvert_exporter": "python",
   "pygments_lexer": "ipython3",
   "version": "3.6.9"
  }
 },
 "nbformat": 4,
 "nbformat_minor": 2
}

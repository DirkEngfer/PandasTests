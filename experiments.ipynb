{
 "cells": [
  {
   "cell_type": "code",
   "execution_count": null,
   "metadata": {},
   "outputs": [],
   "source": [
    "https://github.com/DirkEngfer/PandasTests\n",
    "Hourly NO2 measures in Bornhoeved (Schleswig-Holstein/Germany). programmer: Dirk Engfer, Germany\n",
    "Provided Input data file: NO2_2019_Bornhoeved.csv\n",
    "\n",
    "------------------------------\n",
    "Original source of Input Data:\n",
    "------------------------------\n",
    "Quelle: Umweltbundesamt, https://www.umweltbundesamt.de/daten/luft/luftdaten/stationen\n",
    "        (Abruf: 02.10.2020). Alle Uhrzeiten sind in der jeweils zum Messzeitpunkt\n",
    "        gültigen Zeit (MEZ bzw. MESZ) angegeben.\n"
   ]
  },
  {
   "cell_type": "code",
   "execution_count": 1,
   "metadata": {},
   "outputs": [],
   "source": [
    "import os, numpy as np\n",
    "import pandas as pd\n",
    "homedir = os.getenv('HOME')\n",
    "\n",
    "datapath = os.path.join(homedir, 'Dokumente','python-apps','tensorflow', 'eu_air_pollution_data')\n",
    "datafile = 'NO2_2019_Bornhoeved.csv'\n",
    "\n",
    "indatapath = os.path.join(datapath,datafile)"
   ]
  },
  {
   "cell_type": "code",
   "execution_count": null,
   "metadata": {},
   "outputs": [],
   "source": [
    "Translate the SAS SET statement and friends into Pandas:"
   ]
  },
  {
   "cell_type": "code",
   "execution_count": null,
   "metadata": {},
   "outputs": [],
   "source": [
    "df = pd.read_csv(indatapath, header=0, sep=',',usecols=[2,7,8,9])\n",
    "df = df.loc[(df.Stationsname.isin(['Bornhöved', 'Kiel-Bahnhofstr. Verk.']))]\n",
    "df = df.loc[(df.Messwert.str.contains(pat='-')) == False]\n",
    "df['Messwert']  = df['Messwert'].astype(np.int)\n",
    "from datetime import datetime\n",
    "f = lambda x:datetime.strptime(x[-10:], \"%d.%m.%Y\")\n",
    "df['mydate'] = df['Datum'].map(f)\n",
    "\n",
    "df.sort_values(by=['Stationsname', 'mydate', 'Messwert'], ascending=[True,True, False], inplace=True, axis=0)\n",
    "dailymean = df.groupby(['Stationsname', 'mydate'], sort=False, as_index=False).nth([0,1,2]).groupby(['Stationsname', 'mydate'], sort=False, as_index=False).mean()\n",
    "dailymean['day_count'] = dailymean.groupby('Stationsname', sort=False, as_index=False).cumcount().add(1)\n",
    "dailymean['Jahresgrenzwert'] = 40\n",
    "Ki = dailymean.loc[(dailymean.Stationsname.isin(['Kiel-Bahnhofstr. Verk.']))]\n",
    "Bo = dailymean.loc[(dailymean.Stationsname.isin(['Bornhöved']))]\n",
    "Bo2 = Bo.copy()\n",
    "Bo2['Bornh'] = 'yes'"
   ]
  },
  {
   "cell_type": "code",
   "execution_count": null,
   "metadata": {},
   "outputs": [],
   "source": [
    "Set together 2 dataframes,\n",
    "  (1) perform Append\n",
    "  (2) perform Concatenation\n",
    "  (3) Compare methods 1 and 2 for differences in the resulting dataframe"
   ]
  },
  {
   "cell_type": "code",
   "execution_count": 18,
   "metadata": {},
   "outputs": [
    {
     "name": "stdout",
     "output_type": "stream",
     "text": [
      "Empty DataFrame\n",
      "Columns: [Stationsname, mydate, Messwert, day_count, Jahresgrenzwert, Bornh, _merge]\n",
      "Index: []\n"
     ]
    }
   ],
   "source": [
    "_appended = Ki.append(Bo2, ignore_index=True, verify_integrity=False, sort=False)\n",
    "_concatenated = pd.concat([Ki, Bo2], join='outer', axis=0)\n",
    "compared = _appended.merge(_concatenated, on=['Stationsname', 'mydate', 'Messwert', 'day_count', 'Jahresgrenzwert', 'Bornh'], how='inner', indicator=True)\n",
    "print(compared.loc[compared._merge != 'both', :])\n",
    "\n",
    "# Some more tests on Merge facets:\n",
    "d1 = pd.DataFrame({'x':['x1', 'x2', 'x2', 'x3'], 'y':['y1', 'y2a','y2b', 'y3'], 'z': ['z1', 'z2a','z2b', 'z3']})\n",
    "d1\n",
    "d2 = pd.DataFrame({'x':['x2', 'x3', 'x40', 'x50'], 'y':['y10', 'y20','y20', 'y30'], 'z': ['z10', 'z20','z20', 'z30']})\n",
    "d3 = d1.merge(d2, on='x', how='outer')\n",
    "d4 = d1.merge(d2, on='x', how='inner')\n"
   ]
  },
  {
   "cell_type": "code",
   "execution_count": null,
   "metadata": {},
   "outputs": [],
   "source": []
  }
 ],
 "metadata": {
  "kernelspec": {
   "display_name": "Python 3",
   "language": "python",
   "name": "python3"
  },
  "language_info": {
   "codemirror_mode": {
    "name": "ipython",
    "version": 3
   },
   "file_extension": ".py",
   "mimetype": "text/x-python",
   "name": "python",
   "nbconvert_exporter": "python",
   "pygments_lexer": "ipython3",
   "version": "3.6.9"
  }
 },
 "nbformat": 4,
 "nbformat_minor": 2
}

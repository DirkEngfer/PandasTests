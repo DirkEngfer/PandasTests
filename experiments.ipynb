{
 "cells": [
  {
   "cell_type": "code",
   "execution_count": null,
   "metadata": {},
   "outputs": [],
   "source": [
    "https://github.com/DirkEngfer/PandasTests\n",
    "Hourly NO2 measures in Bornhoeved (Schleswig-Holstein/Germany). programmer: Dirk Engfer, Germany\n",
    "Provided Input data file: NO2_2019_Bornhoeved.csv\n",
    "\n",
    "------------------------------\n",
    "Original source of Input Data:\n",
    "------------------------------\n",
    "Quelle: Umweltbundesamt, https://www.umweltbundesamt.de/daten/luft/luftdaten/stationen\n",
    "        (Abruf: 02.10.2020). Alle Uhrzeiten sind in der jeweils zum Messzeitpunkt\n",
    "        gültigen Zeit (MEZ bzw. MESZ) angegeben.\n"
   ]
  },
  {
   "cell_type": "code",
   "execution_count": 1,
   "metadata": {},
   "outputs": [],
   "source": [
    "import os, numpy as np\n",
    "import pandas as pd\n",
    "homedir = os.getenv('HOME')\n",
    "\n",
    "datapath = os.path.join(homedir, 'Dokumente','python-apps','tensorflow', 'eu_air_pollution_data')\n",
    "datafile = 'NO2_2019_Bornhoeved.csv'\n",
    "\n",
    "indatapath = os.path.join(datapath,datafile)"
   ]
  },
  {
   "cell_type": "code",
   "execution_count": null,
   "metadata": {},
   "outputs": [],
   "source": [
    "Translate the SAS SET statement and friends into Pandas:"
   ]
  },
  {
   "cell_type": "code",
   "execution_count": 2,
   "metadata": {},
   "outputs": [],
   "source": [
    "df = pd.read_csv(indatapath, header=0, sep=',',usecols=[2,7,8,9])\n",
    "df = df.loc[(df.Stationsname.isin(['Bornhöved', 'Kiel-Bahnhofstr. Verk.']))]\n",
    "df = df.loc[(df.Messwert.str.contains(pat='-')) == False]\n",
    "df['Messwert']  = df['Messwert'].astype(np.int)\n",
    "from datetime import datetime\n",
    "f = lambda x:datetime.strptime(x[-10:], \"%d.%m.%Y\")\n",
    "df['mydate'] = df['Datum'].map(f)\n",
    "\n",
    "df.sort_values(by=['Stationsname', 'mydate', 'Messwert'], ascending=[True,True, False], inplace=True, axis=0)\n",
    "dailymean = df.groupby(['Stationsname', 'mydate'], sort=False, as_index=False).nth([0,1,2]).groupby(['Stationsname', 'mydate'], sort=False, as_index=False).mean()\n",
    "dailymean['day_count'] = dailymean.groupby('Stationsname', sort=False, as_index=False).cumcount().add(1)\n",
    "dailymean['Jahresgrenzwert'] = 40\n",
    "Ki = dailymean.loc[(dailymean.Stationsname.isin(['Kiel-Bahnhofstr. Verk.']))]\n",
    "Bo = dailymean.loc[(dailymean.Stationsname.isin(['Bornhöved']))]\n",
    "Bo2 = Bo.copy()\n",
    "Bo2['Bornh'] = 'yes'"
   ]
  },
  {
   "cell_type": "code",
   "execution_count": null,
   "metadata": {},
   "outputs": [],
   "source": [
    "Set together 2 dataframes,\n",
    "  (1) perform Append\n",
    "  (2) perform Concatenation\n",
    "  (3) Compare methods 1 and 2 for differences in the resulting dataframe\n",
    "      i.e. Merge both results ON all columns and look at Merge-indicator variable = 'both'"
   ]
  },
  {
   "cell_type": "code",
   "execution_count": 3,
   "metadata": {},
   "outputs": [
    {
     "name": "stdout",
     "output_type": "stream",
     "text": [
      "Empty DataFrame\n",
      "Columns: [Stationsname, mydate, Messwert, day_count, Jahresgrenzwert, Bornh, _merge]\n",
      "Index: []\n"
     ]
    }
   ],
   "source": [
    "_appended = Ki.append(Bo2, ignore_index=True, verify_integrity=False, sort=False)\n",
    "_concatenated = pd.concat([Ki, Bo2], join='outer', axis=0)\n",
    "compared = _appended.merge(_concatenated, on=['Stationsname', 'mydate', 'Messwert', 'day_count', 'Jahresgrenzwert', 'Bornh'], how='inner', indicator=True)\n",
    "print(compared.loc[compared._merge != 'both', :])\n",
    "\n",
    "# Some more tests on Merge facets:\n",
    "d1 = pd.DataFrame({'x':['x1', 'x2', 'x2', 'x3'], 'y':['y1', 'y2a','y2b', 'y3'], 'z': ['z1', 'z2a','z2b', 'z3']})\n",
    "#d1\n",
    "d2 = pd.DataFrame({'x':['x2', 'x3', 'x40', 'x50'], 'y':['y10', 'y20','y20', 'y30'], 'z': ['z10', 'z20','z20', 'z30']})\n",
    "d3 = d1.merge(d2, on='x', how='outer')\n",
    "d4 = d1.merge(d2, on='x', how='inner')\n",
    "d5 = _concatenated.copy()"
   ]
  },
  {
   "cell_type": "code",
   "execution_count": 4,
   "metadata": {},
   "outputs": [
    {
     "name": "stdout",
     "output_type": "stream",
     "text": [
      "    A    B\n",
      "0  40  130\n",
      "1  50  230\n"
     ]
    }
   ],
   "source": [
    "def sum(x, y, z, m):\n",
    "    return (x + y + z) * m\n",
    "\n",
    "\n",
    "dfw = pd.DataFrame({'A': [1, 2], 'B': [10, 20]})\n",
    "\n",
    "dfw2 = dfw.apply(sum, args=(1, 2), m=10)\n",
    "print(dfw2)"
   ]
  },
  {
   "cell_type": "code",
   "execution_count": 32,
   "metadata": {},
   "outputs": [
    {
     "name": "stdout",
     "output_type": "stream",
     "text": [
      "<class 'pandas.core.frame.DataFrame'>\n",
      "Int64Index: 17433 entries, 0 to 17487\n",
      "Data columns (total 8 columns):\n",
      " #   Column        Non-Null Count  Dtype         \n",
      "---  ------        --------------  -----         \n",
      " 0   Stationsname  17433 non-null  object        \n",
      " 1   Datum         17433 non-null  object        \n",
      " 2   Uhrzeit       17433 non-null  object        \n",
      " 3   Messwert      17433 non-null  int64         \n",
      " 4   mydate        17433 non-null  datetime64[ns]\n",
      " 5   datumuhrzeit  17433 non-null  object        \n",
      " 6   mydt          17433 non-null  datetime64[ns]\n",
      " 7   time_for      17433 non-null  object        \n",
      "dtypes: datetime64[ns](2), int64(1), object(5)\n",
      "memory usage: 1.2+ MB\n",
      "None\n",
      "      Stationsname       Datum Uhrzeit  Messwert     mydate      datumuhrzeit  \\\n",
      "0        Bornhöved  01.01.2019   16:00         2 2019-01-01  01.01.2019 16:00   \n",
      "1        Bornhöved  01.01.2019   17:00         2 2019-01-01  01.01.2019 17:00   \n",
      "2        Bornhöved  01.01.2019   18:00         2 2019-01-01  01.01.2019 18:00   \n",
      "3        Bornhöved  01.01.2019   19:00         2 2019-01-01  01.01.2019 19:00   \n",
      "4        Bornhöved  01.01.2019   20:00         2 2019-01-01  01.01.2019 20:00   \n",
      "...            ...         ...     ...       ...        ...               ...   \n",
      "17483         Kiel  31.12.2019   19:00        74 2019-12-31  31.12.2019 19:00   \n",
      "17484         Kiel  31.12.2019   20:00        71 2019-12-31  31.12.2019 20:00   \n",
      "17485         Kiel  31.12.2019   21:00        65 2019-12-31  31.12.2019 21:00   \n",
      "17486         Kiel  31.12.2019   22:00        43 2019-12-31  31.12.2019 22:00   \n",
      "17487         Kiel  31.12.2019   23:00        41 2019-12-31  31.12.2019 23:00   \n",
      "\n",
      "                     mydt        time_for  \n",
      "0     2019-01-01 16:00:00          coffee  \n",
      "1     2019-01-01 17:00:00           other  \n",
      "2     2019-01-01 18:00:00          dinner  \n",
      "3     2019-01-01 19:00:00          dinner  \n",
      "4     2019-01-01 20:00:00           other  \n",
      "...                   ...             ...  \n",
      "17483 2019-12-31 19:00:00  New year's eve  \n",
      "17484 2019-12-31 20:00:00  New year's eve  \n",
      "17485 2019-12-31 21:00:00  New year's eve  \n",
      "17486 2019-12-31 22:00:00  New year's eve  \n",
      "17487 2019-12-31 23:00:00  New year's eve  \n",
      "\n",
      "[17433 rows x 8 columns]\n"
     ]
    }
   ],
   "source": [
    "df.sort_values(by=['Stationsname', 'mydate', 'Uhrzeit'], ascending=[True,True, True], inplace=True, axis=0)\n",
    "df2 = df.copy()\n",
    "df2.Uhrzeit.replace(regex=[\"'\"], value='', inplace=True)\n",
    "df2.Uhrzeit.replace(regex=[\"24:00\"], value='00:00', inplace=True)\n",
    "df2.Stationsname.replace(regex=[\"Kiel-Bahnhofstr. Verk.\"], value='Kiel', inplace=True)\n",
    "df2['datumuhrzeit'] = df2['Datum'] + ' ' + df2['Uhrzeit']\n",
    "# Example for map method and datetime operations:\n",
    "f = lambda x:datetime.strptime(x[-10:], \"%d.%m.%Y\")\n",
    "df['mydate'] = df['Datum'].map(f)\n",
    "# datetime in pandas notation:\n",
    "df2['mydt']   = pd.to_datetime(df2['datumuhrzeit'], format='%d.%m.%Y %H:%M')\n",
    "# Subset data:\n",
    "subset_df2 = df2.loc[df2.apply(lambda x: x['Uhrzeit'] in ['16:00', '17:00'] \\\n",
    "                      and x.Messwert < 20, axis=1)]\n",
    "\n",
    "# Emulate SAS if-else if-else construct on multiple columns:\n",
    "def set_timefor(row):\n",
    "    if row[\"Uhrzeit\"] == \"16:00\" and row.Datum != '31.12.2019':\n",
    "        return \"coffee\"\n",
    "    elif row.Datum == '31.12.2019':\n",
    "        return \"New year's eve\"\n",
    "    elif row[\"Uhrzeit\"] in [\"18:00\", \"19:00\"]:\n",
    "        return \"dinner\"\n",
    "    else:\n",
    "        return \"other\"\n",
    "\n",
    "df2 = df2.assign(time_for=df2.apply(set_timefor, axis=1))\n",
    "print(df2.info())\n",
    "print(df2)\n"
   ]
  },
  {
   "cell_type": "code",
   "execution_count": null,
   "metadata": {},
   "outputs": [],
   "source": []
  }
 ],
 "metadata": {
  "kernelspec": {
   "display_name": "Python 3",
   "language": "python",
   "name": "python3"
  },
  "language_info": {
   "codemirror_mode": {
    "name": "ipython",
    "version": 3
   },
   "file_extension": ".py",
   "mimetype": "text/x-python",
   "name": "python",
   "nbconvert_exporter": "python",
   "pygments_lexer": "ipython3",
   "version": "3.6.9"
  }
 },
 "nbformat": 4,
 "nbformat_minor": 2
}
